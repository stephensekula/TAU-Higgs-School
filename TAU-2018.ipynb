{
 "cells": [
  {
   "cell_type": "markdown",
   "metadata": {},
   "source": [
    "# TAU Future Scientists - CERN Tour\n",
    "\n",
    "This notebook is written in Python in the Jupyter framework, which allows visualization and interactivity with the notebook via a web platform (e.g. a Jupyter server that can be connected to via a web browser). Feel free to change anything in the code below to see how things change in response. Notebooks are places for people to play with software and ideas."
   ]
  },
  {
   "cell_type": "code",
   "execution_count": 70,
   "metadata": {},
   "outputs": [],
   "source": [
    "# Basic library includes - we will need these libraries later in the notebook\n",
    "\n",
    "# Visualization libraries\n",
    "import matplotlib.pyplot as plt\n",
    "\n",
    "# interact with notebooks\n",
    "from ipywidgets import widgets\n",
    "from ipywidgets import interact\n",
    "\n",
    "# mathematics and numbers\n",
    "import math\n",
    "import numpy as np\n",
    "\n"
   ]
  },
  {
   "cell_type": "markdown",
   "metadata": {},
   "source": [
    "## Examples Accompanying the \"Coulomb's Law and Modern Physics\" Discussion"
   ]
  },
  {
   "cell_type": "code",
   "execution_count": 71,
   "metadata": {
    "scrolled": false
   },
   "outputs": [
    {
     "data": {
      "application/vnd.jupyter.widget-view+json": {
       "model_id": "3b91596b80e540c18a3a489ddb2466ff",
       "version_major": 2,
       "version_minor": 0
      },
      "text/plain": [
       "interactive(children=(FloatSlider(value=1.0, description='Charge 1', max=10.0, min=-10.0, step=1.0), FloatSlid…"
      ]
     },
     "metadata": {},
     "output_type": "display_data"
    },
    {
     "data": {
      "text/plain": [
       "<function __main__.CoulombsLaw_Force(q1=1, q2=1, F_max_multiplier=1, r_max_multiplier=1)>"
      ]
     },
     "execution_count": 71,
     "metadata": {},
     "output_type": "execute_result"
    }
   ],
   "source": [
    "%matplotlib notebook\n",
    "# Inputs for Coulomb's Law Computation\n",
    "\n",
    "epsilon0 = 8.85e12 # C^2/(Nm^2)\n",
    "global e\n",
    "e = 1.602e-19 # Coulombs\n",
    "\n",
    "\n",
    "# define Coulomb's Force Law as a Function - takes charges and plots force vs. distance\n",
    "\n",
    "def CoulombsLaw_Force(q1=1,q2=1,F_max_multiplier=1,r_max_multiplier=1):\n",
    "    global e\n",
    "    r_max = 1e-18\n",
    "    r_step = r_max/100000\n",
    "    r = np.arange(1e-30, r_max, r_step)\n",
    "    F = (1./(4*np.pi*epsilon0))*((q1*q2)/r**2)\n",
    "    figure, axis = plt.subplots()\n",
    "    l0, = axis.plot(r, F, visible=True, lw=2, color='b', label=\"Coulomb's Force Law\")\n",
    "    plt.grid()\n",
    "\n",
    "    F_max = F_max_multiplier*1e26\n",
    "    axis.set_ylim([-100*F_max, 100*F_max])\n",
    "    axis.set_xlim([0, r_max_multiplier*1e-21])\n",
    "    axis.set_xlabel(\"Charge Separation Distance [m]\")\n",
    "    axis.set_ylabel(\"Force [N]\")\n",
    "    \n",
    "interact(CoulombsLaw_Force,\n",
    "         q1=widgets.FloatSlider(min=-10,max=10,step=1,value=1,  description=\"Charge 1\", orientation=\"horizontal\"),\n",
    "         q2=widgets.FloatSlider(min=-10,max=10,step=1,value=-1, description=\"Charge 2\", orientation=\"horizontal\"),\n",
    "         F_max_multiplier=widgets.FloatSlider(min=1,max=100,step=1,value=10, description=\"Max. Force Magnitude\", orientation=\"horizontal\"),\n",
    "         r_max_multiplier=widgets.FloatSlider(min=1,max=100,step=1,value=10, description=\"Max. Distance\", orientation=\"horizontal\"))\n",
    "\n",
    "\n"
   ]
  },
  {
   "cell_type": "code",
   "execution_count": null,
   "metadata": {},
   "outputs": [],
   "source": []
  }
 ],
 "metadata": {
  "kernelspec": {
   "display_name": "Python 3",
   "language": "python",
   "name": "python3"
  },
  "language_info": {
   "codemirror_mode": {
    "name": "ipython",
    "version": 3
   },
   "file_extension": ".py",
   "mimetype": "text/x-python",
   "name": "python",
   "nbconvert_exporter": "python",
   "pygments_lexer": "ipython3",
   "version": "3.6.5"
  }
 },
 "nbformat": 4,
 "nbformat_minor": 2
}
